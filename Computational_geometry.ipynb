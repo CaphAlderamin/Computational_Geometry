{
  "cells": [
    {
      "cell_type": "markdown",
      "metadata": {
        "id": "eo6RIG_CKH-8"
      },
      "source": [
        "# **Импорты**"
      ]
    },
    {
      "cell_type": "code",
      "execution_count": null,
      "metadata": {
        "id": "PIrPWrYPovZO"
      },
      "outputs": [],
      "source": [
        "from math import atan2\n",
        "import matplotlib.pyplot as plt\n",
        "from random import randint\n",
        "import numpy as np\n",
        "import time"
      ]
    },
    {
      "cell_type": "markdown",
      "metadata": {
        "id": "HxF8StO-KNgK"
      },
      "source": [
        "# **Дополнительные функции**"
      ]
    },
    {
      "cell_type": "code",
      "execution_count": null,
      "metadata": {
        "id": "AtSI4J95FeDj"
      },
      "outputs": [],
      "source": [
        "def generate_random_points(num_points=200, percent_uniform=25, low_concentrated=0, high_concentrated=9000,  low_uniform=0, high_uniform=10000):\n",
        "    \"\"\"\n",
        "    Генерация случайных точек с менее концентрированным распределением и выбросами.\n",
        "    Параметры:\n",
        "    - num_points: Количество всех точек.\n",
        "    - percent_uniform: Процент точек с равномерным распределением (выбросы).\n",
        "    - low_concentrated: Нижняя граница для концентрированных точек.\n",
        "    - high_concentrated: Верхняя граница для концентрированных точек.\n",
        "    - low_uniform: Нижняя граница для равномерных точек (выбросы).\n",
        "    - high_uniform: Верхняя граница для равномерных точек (выбросы).\n",
        "    Возвращает:\n",
        "    Список кортежей, представляющих собой сгенерированные точки.\n",
        "    \"\"\"\n",
        "    num_uniform = int((num_points * percent_uniform) / 100)\n",
        "\n",
        "    concentrated_points = np.random.randint(low=low_concentrated, high=high_concentrated, size=(num_points-num_uniform, 2))\n",
        "    uniform_points = np.random.randint(low=low_uniform, high=high_uniform, size=(num_uniform, 2))\n",
        "\n",
        "    points = np.concatenate((concentrated_points, uniform_points))\n",
        "\n",
        "    return [tuple(point) for point in points]"
      ]
    },
    {
      "cell_type": "code",
      "execution_count": null,
      "metadata": {
        "id": "nzX3t1en1csJ"
      },
      "outputs": [],
      "source": [
        "def rotate_points(points, angle_degrees):\n",
        "    \"\"\"\n",
        "    Трансформирует точки графика путем поворота на указанный угол.\n",
        "    Параметры:\n",
        "    - points: список кортежей (x, y), представляющих точки графика\n",
        "    - angle_degrees: угол поворота в градусах\n",
        "    Возвращает:\n",
        "    Список кортежей с трансформированными точками.\n",
        "    \"\"\"\n",
        "    angle_radians = np.radians(angle_degrees)\n",
        "    rotation_matrix = np.array([[np.cos(angle_radians), -np.sin(angle_radians)],\n",
        "                                [np.sin(angle_radians), np.cos(angle_radians)]])\n",
        "\n",
        "    transformed_points = [np.dot(rotation_matrix, np.array(point)) for point in points]\n",
        "\n",
        "    return [(point[0], point[1]) for point in transformed_points]"
      ]
    },
    {
      "cell_type": "code",
      "execution_count": null,
      "metadata": {
        "id": "ZToE6gSW1ujl"
      },
      "outputs": [],
      "source": [
        "def check_points_on_line_x(points):\n",
        "    \"\"\"\n",
        "    Проверяет, лежат ли все точки на одной горизонтальной линии.\n",
        "    Параметры:\n",
        "    - points: список кортежей (x, y), представляющих точки\n",
        "    Возвращает:\n",
        "    True, если все точки лежат на одной горизонтальной линии, иначе False.\n",
        "    \"\"\"\n",
        "    # Извлекаем координаты X из всех точек\n",
        "    x_values = [x for x, y in points]\n",
        "\n",
        "    # Проверяем, все ли значения X равны первому значению X\n",
        "    return all(x == x_values[0] for x in x_values)"
      ]
    },
    {
      "cell_type": "markdown",
      "metadata": {
        "id": "touEDk-6KweQ"
      },
      "source": [
        "# **Выпуклые оболочки**"
      ]
    },
    {
      "cell_type": "markdown",
      "metadata": {
        "id": "zPk2Yl3DKRMo"
      },
      "source": [
        "## Метод Грэхема"
      ]
    },
    {
      "cell_type": "code",
      "execution_count": null,
      "metadata": {
        "id": "DGsY3BpXntAo"
      },
      "outputs": [],
      "source": [
        "def graham_scan(points):\n",
        "    \"\"\"\n",
        "    Функция для поиска выпуклой оболочки методом \"Алгоритм Грэхема\".\n",
        "    Возвращает упорядоченный список точек, составляющих выпуклую оболочку.\n",
        "    \"\"\"\n",
        "    def orientation(p, q, r):\n",
        "        \"\"\"\n",
        "        Функция определяет ориентацию трех точек (p, q, r).\n",
        "        Возвращает:\n",
        "        - -1, если точки образуют левый поворот (против часовой стрелки).\n",
        "        -  0, если точки коллинеарны.\n",
        "        -  1, если точки образуют правый поворот (по часовой стрелке).\n",
        "        \"\"\"\n",
        "        val = (q[1] - p[1]) * (r[0] - q[0]) - (q[0] - p[0]) * (r[1] - q[1])\n",
        "        if val == 0:\n",
        "            return 0\n",
        "        return 1 if val > 0 else -1\n",
        "\n",
        "    points = [tuple(map(float, pt)) for pt in points]\n",
        "    \n",
        "    n = len(points)\n",
        "    if n < 3:\n",
        "        #print(\"Множество точек содержит менее трех точек. Невозможно построить выпуклую оболочку.\")\n",
        "        return points\n",
        "\n",
        "    # Находим точку с наименьшей y-координатой (и самой левой, если таких несколько)\n",
        "    p0 = min(points, key=lambda x: (x[1], x[0]))\n",
        "\n",
        "    # Сортируем остальные точки по полярному углу относительно p0\n",
        "    sorted_points = sorted(points, key=lambda point: (atan2(point[1]-p0[1], point[0]-p0[0]), point))\n",
        "\n",
        "    # Инициализируем стек и добавляем первые три точки\n",
        "    convex_hull = [sorted_points[0], sorted_points[1], sorted_points[2]]\n",
        "\n",
        "    for i in range(2, n):\n",
        "        # Пока точка не образует левый поворот, удаляем последнюю точку из стека\n",
        "        while len(convex_hull) >= 2 and orientation(convex_hull[-2], convex_hull[-1], sorted_points[i]) != -1:\n",
        "            convex_hull.pop()\n",
        "\n",
        "        # Добавляем текущую точку в стек\n",
        "        convex_hull.append(sorted_points[i])\n",
        "\n",
        "    return convex_hull"
      ]
    },
    {
      "cell_type": "markdown",
      "metadata": {
        "id": "VmhpCyOdKbMi"
      },
      "source": [
        "## Модифицированный Метод Грэхема"
      ]
    },
    {
      "cell_type": "code",
      "execution_count": null,
      "metadata": {
        "id": "GI3RoEhvHRmN"
      },
      "outputs": [],
      "source": [
        "def graham_scan_modified(points):\n",
        "    \"\"\"\n",
        "    Функция для поиска выпуклой оболочки методом \"Модифицированный алгоритм Грэхема\".\n",
        "    Возвращает:\n",
        "    - Упорядоченный список точек, составляющих верхную часть оболочки.\n",
        "    - Упорядоченный список точек, составляющих нижнюю часть оболочки.\n",
        "    - Упорядоченный список точек, составляющих всю выпуклую оболочку.\n",
        "    \"\"\"\n",
        "    def orientation(p, q, r):\n",
        "        \"\"\"\n",
        "        Функция определяет ориентацию трех точек (p, q, r).\n",
        "        Возвращает:\n",
        "        - -1, если точки образуют левый поворот (против часовой стрелки).\n",
        "        -  0, если точки коллинеарны.\n",
        "        -  1, если точки образуют правый поворот (по часовой стрелке).\n",
        "        \"\"\"\n",
        "        val = (q[1] - p[1]) * (r[0] - q[0]) - (q[0] - p[0]) * (r[1] - q[1])\n",
        "        if val == 0:\n",
        "            return 0\n",
        "        return 1 if val > 0 else -1\n",
        "\n",
        "    def find_upper_hull(sorted_points):\n",
        "      \"\"\"\n",
        "      Функция находит часть выпуклой оболочки для упорядоченного списка точек sorted_points, который представляет собой часть выпуклой оболочки.\n",
        "      Возвращает список точек, представляющий одну часть выпуклой оболочки.\n",
        "      \"\"\"\n",
        "      upper_hull = []\n",
        "      for point in sorted_points:\n",
        "          while len(upper_hull) >= 2 and orientation(upper_hull[-2], upper_hull[-1], point) != 1:\n",
        "              upper_hull.pop()\n",
        "          upper_hull.append(point)\n",
        "      return upper_hull\n",
        "\n",
        "    points = [tuple(map(float, pt)) for pt in points]\n",
        "    \n",
        "    n = len(points)\n",
        "    if n < 3:\n",
        "        #print(\"Множество точек содержит менее трех точек. Невозможно построить выпуклую оболочку.\")\n",
        "        return points\n",
        "\n",
        "    # Сортируем точки по координате x, затем по y в порядке убывания\n",
        "    sorted_points = sorted(points, key=lambda x: (x[0], -x[1]))\n",
        "\n",
        "    # Модификация: строим верхнюю и нижнюю выпуклости\n",
        "    upper_hull = find_upper_hull(sorted_points)\n",
        "    lower_hull = find_upper_hull(reversed(sorted_points))\n",
        "\n",
        "    # Соединяем верхнюю и нижнюю выпуклости для получения общей выпуклой оболочки\n",
        "    convex_hull = upper_hull[:-1] + lower_hull[:-1]\n",
        "\n",
        "    return upper_hull, lower_hull, convex_hull"
      ]
    },
    {
      "cell_type": "markdown",
      "metadata": {
        "id": "4IeXVrdTKebC"
      },
      "source": [
        "## Метод быстрой оболочки"
      ]
    },
    {
      "cell_type": "code",
      "execution_count": null,
      "metadata": {
        "id": "fF7NjI3m4kq3"
      },
      "outputs": [],
      "source": [
        "def quick_hull(points):\n",
        "    \"\"\"\n",
        "    Функция для поиска выпуклой оболочки методом \"Быстрая оболочка\".\n",
        "    Возвращает упорядоченный список точек, составляющих выпуклую оболочку.\n",
        "    \"\"\"\n",
        "    def orientation(p, q, r):\n",
        "        \"\"\"\n",
        "        Функция определяет ориентацию трех точек (p, q, r).\n",
        "        Возвращает:\n",
        "        - -1, если точки образуют левый поворот (против часовой стрелки).\n",
        "        -  0, если точки коллинеарны.\n",
        "        -  1, если точки образуют правый поворот (по часовой стрелке).\n",
        "        \"\"\"\n",
        "        val = (q[1] - p[1]) * (r[0] - q[0]) - (q[0] - p[0]) * (r[1] - q[1])\n",
        "        if val == 0:\n",
        "            return 0\n",
        "        return 1 if val > 0 else -1\n",
        "\n",
        "    def find_distance(p, q, r):\n",
        "        \"\"\"\n",
        "        Функция вычисляет расстояние от точки r до прямой, проходящей через точки p и q.\n",
        "        Возвращает абсолютное значение этого расстояния.\n",
        "        \"\"\"\n",
        "        return abs((q[1] - p[1]) * (r[0] - p[0]) - (q[0] - p[0]) * (r[1] - p[1]))\n",
        "\n",
        "    def find_hull(points, p, q, side):\n",
        "        \"\"\"\n",
        "        Рекурсивная функция для поиска выпуклой оболочки.\n",
        "        points - множество точек,\n",
        "        p, q - текущие точки, образующие линию,\n",
        "        result_hull - текущая выпуклая оболочка.\n",
        "        \"\"\"\n",
        "        ind = -1\n",
        "        max_dist = 0\n",
        "\n",
        "        # Нахождение точки с максимальным расстоянием от L, а также на указанной стороне L.\n",
        "        for i in range(len(points)):\n",
        "            temp = find_distance(p, q, points[i])\n",
        "\n",
        "            if (orientation(p, q, points[i]) == side) and (temp > max_dist):\n",
        "                ind = i\n",
        "                max_dist = temp\n",
        "\n",
        "        # Если точка не найдена, добавьте конечные точки L к выпуклой оболочке.\n",
        "        if ind == -1:\n",
        "            result_hull.append(p)\n",
        "            result_hull.append(q)\n",
        "            return\n",
        "\n",
        "        # Рекусрсия для двух частей, разделенных [ind]\n",
        "        find_hull(points, points[ind], p, -orientation(points[ind], p, q))\n",
        "        find_hull(points, points[ind], q, -orientation(points[ind], q, p))\n",
        "\n",
        "    points = [tuple(map(float, pt)) for pt in points]\n",
        "\n",
        "    n = len(points)\n",
        "    if n < 3:\n",
        "        #print(\"Множество точек содержит менее трех точек. Невозможно построить выпуклую оболочку.\")\n",
        "        return points\n",
        "\n",
        "    result_hull = []\n",
        "\n",
        "    # Сортируем точки по координате x, затем по y в порядке убывания\n",
        "    sorted_points = sorted(points, key=lambda x: (x[0], -x[1]))\n",
        "\n",
        "    # Находим самую левую нижнюю и самую правую верхнюю точки\n",
        "    min_x = min(points, key=lambda x: (x[0], x[1]))\n",
        "    max_x = max(points, key=lambda x: (x[0], x[1]))\n",
        "\n",
        "    # Рекурсивно найти точки выпуклой оболочки на одной и другой стороне линии, соединяющей a[min_x] и a[max_x]\n",
        "    find_hull(points, min_x, max_x, 1)\n",
        "    find_hull(points, min_x, max_x, -1)\n",
        "\n",
        "    # Удаление дубликатов\n",
        "    result_hull = list(set(result_hull))\n",
        "\n",
        "    # Сортировка остальных точек по полярному углу\n",
        "    sorted_points = sorted(result_hull, key=lambda point: (atan2(point[1] - min_x[1], point[0] - min_x[0]), point))\n",
        "\n",
        "    if min_x in sorted_points:\n",
        "        sorted_points.remove(min_x)\n",
        "        sorted_points.insert(0, min_x)\n",
        "\n",
        "    return sorted_points\n"
      ]
    },
    {
      "cell_type": "markdown",
      "metadata": {
        "id": "G6mDVuWLKmRm"
      },
      "source": [
        "## Метод Джарвиса (заворачивания подарка)"
      ]
    },
    {
      "cell_type": "code",
      "execution_count": null,
      "metadata": {
        "id": "ewehZdIFIiIm"
      },
      "outputs": [],
      "source": [
        "def jarvis_march(points):\n",
        "    \"\"\"\n",
        "    Функция для поиска выпуклой оболочки методом \"Джарвиса\" (или заворачивания подарочков :) ).\n",
        "    Возвращает упорядоченный список точек, составляющих выпуклую оболочку.\n",
        "    \"\"\"\n",
        "    def orientation(p, q, r):\n",
        "        \"\"\"\n",
        "        Функция определяет ориентацию трех точек (p, q, r).\n",
        "        Возвращает:\n",
        "        - -1, если точки образуют левый поворот (против часовой стрелки).\n",
        "        -  0, если точки коллинеарны.\n",
        "        -  1, если точки образуют правый поворот (по часовой стрелке).\n",
        "        \"\"\"\n",
        "        val = (q[1] - p[1]) * (r[0] - q[0]) - (q[0] - p[0]) * (r[1] - q[1])\n",
        "        if val == 0:\n",
        "            return 0\n",
        "        return 1 if val > 0 else -1\n",
        "\n",
        "    points = [tuple(map(float, pt)) for pt in points]\n",
        "    \n",
        "    n = len(points)\n",
        "    if n < 3:\n",
        "        #print(\"Множество точек содержит менее трех точек. Невозможно построить выпуклую оболочку.\")\n",
        "        return points\n",
        "\n",
        "    # Находим начальную точку, которая обязательно будет входить в выпуклую оболочку\n",
        "    start_point = min(points, key=lambda x: (x[1], x[0]))\n",
        "    convex_hull = [start_point]\n",
        "    while True:\n",
        "        endpoint = points[0]\n",
        "        for i in range(1, n):\n",
        "            if points[i] == convex_hull[-1]:\n",
        "                continue\n",
        "            ori = orientation(convex_hull[-1], endpoint, points[i])\n",
        "            if endpoint == convex_hull[-1] or ori == 1 or (ori == 0 and points[i] == points[-1]):\n",
        "                endpoint = points[i]\n",
        "\n",
        "        # Если вернулись к начальной точке, то выпуклая оболочка построена\n",
        "        if endpoint == start_point:\n",
        "            break\n",
        "        convex_hull.append(endpoint)\n",
        "    return convex_hull"
      ]
    },
    {
      "cell_type": "markdown",
      "metadata": {
        "id": "0y2RQNfBK-Z3"
      },
      "source": [
        "## **Сравнение**"
      ]
    },
    {
      "cell_type": "code",
      "execution_count": null,
      "metadata": {
        "id": "sNmLbW0ZLthh"
      },
      "outputs": [],
      "source": [
        "# Создание списка множеств точек для демонстрации работы при различном количестве точек\n",
        "points_list_demonstration = [\n",
        "    #[(0,0), (1,1), (2,2)],                                # 3 точки в линию под 45\n",
        "    [(0,1), (1,1), (2,1)],                                # 3 точки в линию по X\n",
        "    [(1,0), (1,1), (1,2)],                                # 3 точки в линию по Y\n",
        "    [(2,0), (3,1), (1,3)],                                # 3 точки\n",
        "    [(0,0), (5,5), (1,2), (2,3), (3,4), (2,1), (2,2)],    # 7 точки\n",
        "    [(0,0), (1,1), (2,2), (3,3), (4,4), (5,5), (5,0)],    # 7 точки\n",
        "    generate_random_points(20,  25, 0, 50,   0, 60),      # 20 точек\n",
        "    generate_random_points(40,  25, 0, 1000, 0, 1100),    # 40 точек\n",
        "    generate_random_points(100, 25, 0, 9000, 0, 10000),   # 100 точек\n",
        "    ]"
      ]
    },
    {
      "cell_type": "code",
      "execution_count": null,
      "metadata": {
        "colab": {
          "base_uri": "https://localhost:8080/",
          "height": 807
        },
        "id": "WxFth-BkK8j-",
        "outputId": "5b82bdeb-a4a3-4376-a615-462f5e063350"
      },
      "outputs": [],
      "source": [
        "# Создание полотна 4x8 с подграфиками\n",
        "fig, axes = plt.subplots(nrows=4, ncols=8, figsize=(20, 8))\n",
        "\n",
        "for i in range(4):\n",
        "    if i == 1:\n",
        "        for j, points in enumerate(points_list_demonstration):\n",
        "              result = graham_scan_modified(points)\n",
        "              if isinstance(result, tuple):\n",
        "                  upper_hull, lower_hull, convex_hull = result\n",
        "\n",
        "                  # Разделение координатных значений для построения графика\n",
        "                  x, y = zip(*points)\n",
        "                  up_hull_x, up_hull_y = zip(*upper_hull)\n",
        "                  lw_hull_x, lw_hull_y = zip(*lower_hull)\n",
        "                  hull_x, hull_y = zip(*convex_hull)\n",
        "              else:\n",
        "                  convex_hull = result\n",
        "                  x, y = zip(*points)\n",
        "                  hull_x, hull_y = zip(*convex_hull)\n",
        "\n",
        "              # Построение графика\n",
        "              ax = axes[i, j]\n",
        "              ax.scatter(x, y, color='blue', label='Точки множества', s=25, zorder=3)\n",
        "              ax.scatter(hull_x, hull_y, color='red', label='Вершины выпуклой оболочки', s=75, zorder=2)\n",
        "              if isinstance(result, tuple):\n",
        "                  ax.plot(up_hull_x, up_hull_y, color='orange', linestyle='-', label='Верхняя выпуклая оболочка', linewidth=2, zorder=1)\n",
        "                  ax.plot(lw_hull_x, lw_hull_y, color='red', linestyle='-', label='Нижняя выпуклая оболочка', linewidth=2, zorder=1)\n",
        "              else:\n",
        "                  ax.plot(hull_x, hull_y, color='red', linestyle='-', label='Выпуклая оболочка', linewidth=2, zorder=1)\n",
        "              if j == 0:\n",
        "                ax.set_title('Модиф. метод Грэхема')\n",
        "              ax.grid(True, linestyle='--')\n",
        "    else:\n",
        "        for j, points in enumerate(points_list_demonstration):\n",
        "            match i:\n",
        "                case 0:\n",
        "                    convex_hull = graham_scan(points)\n",
        "                case 2:\n",
        "                    convex_hull = quick_hull(points)\n",
        "                case 3:\n",
        "                    convex_hull = jarvis_march(points)\n",
        "\n",
        "            # Разделение координатных значений для построения графика\n",
        "            x, y = zip(*points)\n",
        "            hull_x, hull_y = zip(*convex_hull)\n",
        "\n",
        "            # Построение графика\n",
        "            ax = axes[i, j]\n",
        "            ax.scatter(x, y, color='blue', label='Точки множества', s=25, zorder=3)\n",
        "            ax.scatter(hull_x, hull_y, color='red', label='Вершины выпуклой оболочки', s=75, zorder=2)\n",
        "            ax.plot(hull_x + (hull_x[0],), hull_y + (hull_y[0],), color='red', linestyle='-', label='Выпуклая оболочка', zorder=1)\n",
        "            if j == 0:\n",
        "                match i:\n",
        "                    case 0:\n",
        "                        ax.set_title('Метод Грэхема')\n",
        "                    case 2:\n",
        "                        ax.set_title('Метод быстрой оболочки')\n",
        "                    case 3:\n",
        "                        ax.set_title('Метод Джарвиса')\n",
        "            ax.grid(True, linestyle='--')\n",
        "\n",
        "# Регулируем расположение подграфиков\n",
        "plt.tight_layout()\n",
        "\n",
        "# Показываем графики\n",
        "plt.show()"
      ]
    },
    {
      "cell_type": "code",
      "execution_count": null,
      "metadata": {
        "id": "HFLew-ZlbVkF"
      },
      "outputs": [],
      "source": [
        "# Создание списка множеств точек для демонстрации скорости работы алгоритмов при большом количестве точек\n",
        "num_tests = 1000\n",
        "points_list_test = []\n",
        "for _ in range(num_tests):\n",
        "  points_list_test.append(generate_random_points(randint(50, 500), 25, 0, 90000, 0, 100000))\n",
        "  #points_list_test.append(generate_random_points(randint(10, 50), 25, 0, 1000, 0, 1100))"
      ]
    },
    {
      "cell_type": "code",
      "execution_count": null,
      "metadata": {
        "colab": {
          "base_uri": "https://localhost:8080/"
        },
        "id": "9gcCZ-wyW1oj",
        "outputId": "13454fd2-bebb-4498-b44e-93904efe45cc"
      },
      "outputs": [],
      "source": [
        "num_methods = 4\n",
        "\n",
        "# Создаем массив для хранения результатов\n",
        "results = np.zeros((num_methods, num_tests))\n",
        "method_names = [\"graham_scan\", \"graham_scan_mod\", \"quick_hull\", \"jarvis_march\"]\n",
        "\n",
        "for i in range(num_methods):\n",
        "    start_time = time.time()\n",
        "\n",
        "    match i:\n",
        "        case 0:\n",
        "            for j, points in enumerate(points_list_test):\n",
        "                convex_hull = graham_scan(points)\n",
        "\n",
        "                end_time = time.time()\n",
        "                execution_time = end_time - start_time\n",
        "\n",
        "                results[i, j] = execution_time\n",
        "        case 1:\n",
        "            for j, points in enumerate(points_list_test):\n",
        "                convex_hull = graham_scan_modified(points)\n",
        "\n",
        "                end_time = time.time()\n",
        "                execution_time = end_time - start_time\n",
        "\n",
        "                results[i, j] = execution_time\n",
        "        case 2:\n",
        "            for j, points in enumerate(points_list_test):\n",
        "                convex_hull = quick_hull(points)\n",
        "\n",
        "                end_time = time.time()\n",
        "                execution_time = end_time - start_time\n",
        "\n",
        "                results[i, j] = execution_time\n",
        "        case 3:\n",
        "            for j, points in enumerate(points_list_test):\n",
        "                convex_hull = jarvis_march(points)\n",
        "\n",
        "                end_time = time.time()\n",
        "                execution_time = end_time - start_time\n",
        "\n",
        "                results[i, j] = execution_time\n",
        "\n",
        "# Выводим массив результатов\n",
        "print(\"Results:\")\n",
        "print(results)\n",
        "\n",
        "for method, result in zip(method_names, results):\n",
        "    sum_value = sum(result)\n",
        "    average_value = sum(result) / len(result)\n",
        "    print(f\"{method:}:\")\n",
        "    print(f\"  time summary: {sum_value:.5f}\")\n",
        "    print(f\"  average time: {average_value:.5f}\")"
      ]
    },
    {
      "cell_type": "code",
      "execution_count": null,
      "metadata": {
        "colab": {
          "base_uri": "https://localhost:8080/"
        },
        "id": "dscXd53YXgNU",
        "outputId": "29330c2c-4295-4093-aae2-2dc027cf4520"
      },
      "outputs": [],
      "source": [
        "num_methods = 4\n",
        "\n",
        "# Создаем массив для хранения результатов\n",
        "results = np.zeros((num_methods, num_tests))\n",
        "method_names = [\"graham_scan\", \"graham_scan_mod\", \"quick_hull\", \"jarvis_march\"]\n",
        "\n",
        "for i in range(num_methods):\n",
        "    start_time = time.time()\n",
        "\n",
        "    match i:\n",
        "        case 0:\n",
        "            for j, points in enumerate(points_list_test):\n",
        "                convex_hull = graham_scan(points)\n",
        "\n",
        "                end_time = time.time()\n",
        "                execution_time = end_time - start_time\n",
        "\n",
        "                results[i, j] = execution_time\n",
        "        case 1:\n",
        "            for j, points in enumerate(points_list_test):\n",
        "                convex_hull = graham_scan_modified(points)\n",
        "\n",
        "                end_time = time.time()\n",
        "                execution_time = end_time - start_time\n",
        "\n",
        "                results[i, j] = execution_time\n",
        "        case 2:\n",
        "            for j, points in enumerate(points_list_test):\n",
        "                convex_hull = quick_hull(points)\n",
        "\n",
        "                end_time = time.time()\n",
        "                execution_time = end_time - start_time\n",
        "\n",
        "                results[i, j] = execution_time\n",
        "        case 3:\n",
        "            for j, points in enumerate(points_list_test):\n",
        "                convex_hull = jarvis_march(points)\n",
        "\n",
        "                end_time = time.time()\n",
        "                execution_time = end_time - start_time\n",
        "\n",
        "                results[i, j] = execution_time\n",
        "\n",
        "# Выводим массив результатов\n",
        "print(\"Results:\")\n",
        "print(results)\n",
        "\n",
        "for method, result in zip(method_names, results):\n",
        "    sum_value = sum(result)\n",
        "    average_value = sum(result) / len(result)\n",
        "    print(f\"{method:}:\")\n",
        "    print(f\"  time summary: {sum_value:.5f}\")\n",
        "    print(f\"  average time: {average_value:.5f}\")"
      ]
    }
  ],
  "metadata": {
    "colab": {
      "provenance": []
    },
    "kernelspec": {
      "display_name": "base_3_10",
      "language": "python",
      "name": "python3"
    },
    "language_info": {
      "codemirror_mode": {
        "name": "ipython",
        "version": 3
      },
      "file_extension": ".py",
      "mimetype": "text/x-python",
      "name": "python",
      "nbconvert_exporter": "python",
      "pygments_lexer": "ipython3",
      "version": "3.10.18"
    }
  },
  "nbformat": 4,
  "nbformat_minor": 0
}
